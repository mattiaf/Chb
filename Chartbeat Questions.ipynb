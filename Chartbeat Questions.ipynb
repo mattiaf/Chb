{
 "metadata": {
  "name": "",
  "signature": "sha256:e695d5e12083dda54740072230d07aa1f9641fb419092291de476ac6e2d1fd12"
 },
 "nbformat": 3,
 "nbformat_minor": 0,
 "worksheets": [
  {
   "cells": [
    {
     "cell_type": "markdown",
     "metadata": {},
     "source": [
      "# QUESTIONS\n",
      "\n",
      "1. Find the 5 most visited articles.  \n",
      "2. Find the number of people who visited 3 or more articles.  \n",
      "3. From amongst this set of visitors who visited at least 3 articles, find the 5 visitors who spent the highest amount of time, on average, on the pages they visited.  \n",
      "4. Find the article that was viewed the most frequently by visitors who also viewed the article: \n"
     ]
    },
    {
     "cell_type": "markdown",
     "metadata": {},
     "source": [
      "## Read data"
     ]
    },
    {
     "cell_type": "code",
     "collapsed": false,
     "input": [
      "%matplotlib inline\n",
      "\n",
      "import pandas as pd\n",
      "import matplotlib.pyplot as plt\n",
      "\n",
      "colnames = ['user_id_hash','relative_path','first_visit_ts','seconds_of_engaged_time']\n",
      "data = pd.read_csv('gawker-clean.txt', delimiter=' ', names=colnames)\n",
      "data.head()"
     ],
     "language": "python",
     "metadata": {},
     "outputs": [
      {
       "html": [
        "<div style=\"max-height:1000px;max-width:1500px;overflow:auto;\">\n",
        "<table border=\"1\" class=\"dataframe\">\n",
        "  <thead>\n",
        "    <tr style=\"text-align: right;\">\n",
        "      <th></th>\n",
        "      <th>user_id_hash</th>\n",
        "      <th>relative_path</th>\n",
        "      <th>first_visit_ts</th>\n",
        "      <th>seconds_of_engaged_time</th>\n",
        "    </tr>\n",
        "  </thead>\n",
        "  <tbody>\n",
        "    <tr>\n",
        "      <th>0</th>\n",
        "      <td>-4218168720475443444</td>\n",
        "      <td>                                                 /</td>\n",
        "      <td> 1362575466</td>\n",
        "      <td>   0</td>\n",
        "    </tr>\n",
        "    <tr>\n",
        "      <th>1</th>\n",
        "      <td> 8199041574805840098</td>\n",
        "      <td>                                                 /</td>\n",
        "      <td> 1361386398</td>\n",
        "      <td>   0</td>\n",
        "    </tr>\n",
        "    <tr>\n",
        "      <th>2</th>\n",
        "      <td> 8199041574805840098</td>\n",
        "      <td> /5983160/the-grammy-awards-dumbest-decisions-o...</td>\n",
        "      <td> 1360610817</td>\n",
        "      <td> 285</td>\n",
        "    </tr>\n",
        "    <tr>\n",
        "      <th>3</th>\n",
        "      <td> 8199041574805840098</td>\n",
        "      <td> /5983183/bestselling-crime-author-patricia-cor...</td>\n",
        "      <td> 1360610703</td>\n",
        "      <td> 105</td>\n",
        "    </tr>\n",
        "    <tr>\n",
        "      <th>4</th>\n",
        "      <td> 8199041574805840098</td>\n",
        "      <td> /5983245/justin-bieber-is-not-having-a-very-go...</td>\n",
        "      <td> 1360610531</td>\n",
        "      <td> 165</td>\n",
        "    </tr>\n",
        "  </tbody>\n",
        "</table>\n",
        "</div>"
       ],
       "metadata": {},
       "output_type": "pyout",
       "prompt_number": 11,
       "text": [
        "          user_id_hash                                      relative_path  \\\n",
        "0 -4218168720475443444                                                  /   \n",
        "1  8199041574805840098                                                  /   \n",
        "2  8199041574805840098  /5983160/the-grammy-awards-dumbest-decisions-o...   \n",
        "3  8199041574805840098  /5983183/bestselling-crime-author-patricia-cor...   \n",
        "4  8199041574805840098  /5983245/justin-bieber-is-not-having-a-very-go...   \n",
        "\n",
        "   first_visit_ts  seconds_of_engaged_time  \n",
        "0      1362575466                        0  \n",
        "1      1361386398                        0  \n",
        "2      1360610817                      285  \n",
        "3      1360610703                      105  \n",
        "4      1360610531                      165  "
       ]
      }
     ],
     "prompt_number": 11
    },
    {
     "cell_type": "markdown",
     "metadata": {},
     "source": [
      "# Question 1: Find the 5 most visited articles\n",
      "\n",
      "The 5 most read articles are:\n",
      "\n",
      "/heres-the-first-clip-from-farrah-abrahams-sex-tape-493130311    (38711 views)  \n",
      "/5994974/the-most-deranged-sorority-girl-email-you-will-ever-read    (35937 views)    \n",
      "/russell-brand-destroys-msnbc-talk-show-host-for-treatin-513992493    (19542  views)  \n",
      "/5984348/two-minutes-of-nothing-but-goats-yelling-like-humans     (9589  views)  \n",
      "/texas-says-its-ok-to-shoot-an-escort-if-she-wont-have-511636423     (8447  views)  \n"
     ]
    },
    {
     "cell_type": "code",
     "collapsed": false,
     "input": [
      "data = data[data.relative_path  != '/'] # removing relative_path == homepage \n",
      "\n",
      "count_visits=data.groupby('relative_path').count()['user_id_hash'] # group by relative path, and count their occurrencies\n",
      "count_visits.order(ascending=False)[0:5] # display 5 most viewed articles"
     ],
     "language": "python",
     "metadata": {},
     "outputs": [
      {
       "metadata": {},
       "output_type": "pyout",
       "prompt_number": 12,
       "text": [
        "relative_path\n",
        "/heres-the-first-clip-from-farrah-abrahams-sex-tape-493130311    38711\n",
        "/5994974/the-most-deranged-sorority-girl-email-you-will-ever-read    35937\n",
        "/russell-brand-destroys-msnbc-talk-show-host-for-treatin-513992493    19542\n",
        "/5984348/two-minutes-of-nothing-but-goats-yelling-like-humans     9589\n",
        "/texas-says-its-ok-to-shoot-an-escort-if-she-wont-have-511636423     8447\n",
        "Name: user_id_hash, dtype: int64"
       ]
      }
     ],
     "prompt_number": 12
    },
    {
     "cell_type": "markdown",
     "metadata": {},
     "source": [
      "#Question 2: Find the number of people who visited 3 or more articles\n",
      "\n",
      "Answer is 77083"
     ]
    },
    {
     "cell_type": "code",
     "collapsed": false,
     "input": [
      "user_groups=data.groupby('user_id_hash') # group by users\n",
      "user_counts=user_groups.count()['relative_path'] # count article read\n",
      "sum(user_counts.values >= 3) # find users that read more than 3 articles, and some the list of Booleans"
     ],
     "language": "python",
     "metadata": {},
     "outputs": [
      {
       "metadata": {},
       "output_type": "pyout",
       "prompt_number": 15,
       "text": [
        "77083"
       ]
      }
     ],
     "prompt_number": 15
    },
    {
     "cell_type": "markdown",
     "metadata": {},
     "source": [
      "#Question 3: From amongst this set of visitors who visited at least 3 articles, find the 5 visitors who spent the highest amount of time, on average, on the pages they visited.\n",
      "\n",
      "Answer:   \n",
      "2612828585342060062\t  \n",
      "2906046795828020045\t  \n",
      "-4414929294716219945  \n",
      "-5765382893926725309  \n",
      "-1450317577664628957  \t"
     ]
    },
    {
     "cell_type": "code",
     "collapsed": false,
     "input": [
      "# compute mean time per user\n",
      "mean_time=user_groups.mean()['seconds_of_engaged_time']\n",
      "\n",
      "#create data frame with two columns:\n",
      "##  articles seen (computed in question 2\n",
      "##  mean engagement time per user\n",
      "data_byuser=pd.concat([user_counts,mean_time], axis=1)\n",
      "data_byuser.columns=['articles_seen','mean_engagement']\n",
      "\n",
      "# among the users that have seen at least three articles, find the 5 who spent the highest amount of time on those\n",
      "data_byuser[data_byuser.articles_seen >= 3].sort(columns='mean_engagement', ascending=False)[0:5]"
     ],
     "language": "python",
     "metadata": {},
     "outputs": [
      {
       "html": [
        "<div style=\"max-height:1000px;max-width:1500px;overflow:auto;\">\n",
        "<table border=\"1\" class=\"dataframe\">\n",
        "  <thead>\n",
        "    <tr style=\"text-align: right;\">\n",
        "      <th></th>\n",
        "      <th>articles_seen</th>\n",
        "      <th>mean_engagement</th>\n",
        "    </tr>\n",
        "    <tr>\n",
        "      <th>user_id_hash</th>\n",
        "      <th></th>\n",
        "      <th></th>\n",
        "    </tr>\n",
        "  </thead>\n",
        "  <tbody>\n",
        "    <tr>\n",
        "      <th> 2612828585342060062</th>\n",
        "      <td> 4</td>\n",
        "      <td> 1923.75</td>\n",
        "    </tr>\n",
        "    <tr>\n",
        "      <th> 2906046795828020045</th>\n",
        "      <td> 3</td>\n",
        "      <td> 1905.00</td>\n",
        "    </tr>\n",
        "    <tr>\n",
        "      <th>-4414929294716219945</th>\n",
        "      <td> 4</td>\n",
        "      <td> 1848.75</td>\n",
        "    </tr>\n",
        "    <tr>\n",
        "      <th>-5765382893926725309</th>\n",
        "      <td> 4</td>\n",
        "      <td> 1833.75</td>\n",
        "    </tr>\n",
        "    <tr>\n",
        "      <th>-1450317577664628957</th>\n",
        "      <td> 4</td>\n",
        "      <td> 1818.75</td>\n",
        "    </tr>\n",
        "  </tbody>\n",
        "</table>\n",
        "</div>"
       ],
       "metadata": {},
       "output_type": "pyout",
       "prompt_number": 16,
       "text": [
        "                      articles_seen  mean_engagement\n",
        "user_id_hash                                        \n",
        " 2612828585342060062              4          1923.75\n",
        " 2906046795828020045              3          1905.00\n",
        "-4414929294716219945              4          1848.75\n",
        "-5765382893926725309              4          1833.75\n",
        "-1450317577664628957              4          1818.75"
       ]
      }
     ],
     "prompt_number": 16
    },
    {
     "cell_type": "code",
     "collapsed": false,
     "input": [
      "# distribution of engaged time \n",
      "\n",
      "fig, ax = plt.subplots()\n",
      "data.seconds_of_engaged_time.hist(ax=ax, bins = 100)\n",
      "ax.set_yscale('log')\n",
      "plt.xlabel('engaged time (seconds)')\n",
      "plt.ylabel('frequency')\n"
     ],
     "language": "python",
     "metadata": {},
     "outputs": [
      {
       "metadata": {},
       "output_type": "pyout",
       "prompt_number": 28,
       "text": [
        "<matplotlib.text.Text at 0x1062a83d0>"
       ]
      },
      {
       "metadata": {},
       "output_type": "display_data",
       "png": "[encoded data removed]",
       "text": [
        "<matplotlib.figure.Figure at 0x1106d8910>"
       ]
      }
     ],
     "prompt_number": 28
    },
    {
     "cell_type": "markdown",
     "metadata": {},
     "source": [
      "# 4. Find the article that was viewed the most frequently by visitors who also viewed the article: /5986463/this-is-the-saddest-sentence-about-pizza-ever\n",
      "\n",
      "Answer: hilarious-yelp-review-helps-cement-precedent-of-not-taking-internet-seriously "
     ]
    },
    {
     "cell_type": "code",
     "collapsed": false,
     "input": [
      "# article to look for\n",
      "pizzarticle='/5986463/this-is-the-saddest-sentence-about-pizza-ever'\n",
      "\n",
      "# select users that have seen that article\n",
      "users_pizzarticle=data[data.relative_path==pizzarticle]['user_id_hash'].values\n",
      "data.index=data.user_id_hash\n",
      "\n",
      "# select rows that correspond to user_pizzarticle\n",
      "# group by relative_path\n",
      "# count how many times other articles have been read\n",
      "# sort\n",
      "data.ix[users_pizzarticle].groupby('relative_path').count()['user_id_hash'].order(ascending = False)[1:6] # index 0 will be pizzarticle itselft"
     ],
     "language": "python",
     "metadata": {},
     "outputs": [
      {
       "metadata": {},
       "output_type": "pyout",
       "prompt_number": 34,
       "text": [
        "relative_path\n",
        "/5986451/hilarious-yelp-review-helps-cement-precedent-of-not-taking-internet-seriously    175\n",
        "/5986462/yahoo-ceo-marissa-mayer-no-more-working-from-home      154\n",
        "/5986235/your-guide-to-cressida-bonas-the-girl-prince-harry-nailed-at-the-dinner-table    144\n",
        "/5986541/lets-all-speculate-on-the-identity-of-the-inappropriate-times-columnist    124\n",
        "/5986524/vatican-responds-to-gay-blackmail-rumors-embroiled-cardinal-skips-sunday-mass    122\n",
        "Name: user_id_hash, dtype: int64"
       ]
      }
     ],
     "prompt_number": 34
    },
    {
     "cell_type": "code",
     "collapsed": false,
     "input": [],
     "language": "python",
     "metadata": {},
     "outputs": []
    }
   ],
   "metadata": {}
  }
 ]
}